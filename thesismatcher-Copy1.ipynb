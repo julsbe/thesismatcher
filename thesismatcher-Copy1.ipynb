{
 "cells": [
  {
   "cell_type": "code",
   "execution_count": 1,
   "id": "48340889",
   "metadata": {},
   "outputs": [
    {
     "ename": "NameError",
     "evalue": "name 'fetch_university_data' is not defined",
     "output_type": "error",
     "traceback": [
      "\u001b[1;31m---------------------------------------------------------------------------\u001b[0m",
      "\u001b[1;31mNameError\u001b[0m                                 Traceback (most recent call last)",
      "Cell \u001b[1;32mIn[1], line 49\u001b[0m\n\u001b[0;32m     46\u001b[0m             \u001b[38;5;28mprint\u001b[39m(\u001b[38;5;124m\"\u001b[39m\u001b[38;5;124mInvalid choice or student data not entered. Please try again.\u001b[39m\u001b[38;5;124m\"\u001b[39m)\n\u001b[0;32m     48\u001b[0m \u001b[38;5;28;01mif\u001b[39;00m \u001b[38;5;18m__name__\u001b[39m \u001b[38;5;241m==\u001b[39m \u001b[38;5;124m\"\u001b[39m\u001b[38;5;124m__main__\u001b[39m\u001b[38;5;124m\"\u001b[39m:\n\u001b[1;32m---> 49\u001b[0m     main()\n",
      "Cell \u001b[1;32mIn[1], line 27\u001b[0m, in \u001b[0;36mmain\u001b[1;34m()\u001b[0m\n\u001b[0;32m     24\u001b[0m department_info \u001b[38;5;241m=\u001b[39m (\u001b[38;5;124m\"\u001b[39m\u001b[38;5;124mEconomics\u001b[39m\u001b[38;5;124m\"\u001b[39m, \u001b[38;5;124m\"\u001b[39m\u001b[38;5;124mNova SBE\u001b[39m\u001b[38;5;124m\"\u001b[39m)\n\u001b[0;32m     26\u001b[0m student \u001b[38;5;241m=\u001b[39m \u001b[38;5;28;01mNone\u001b[39;00m\n\u001b[1;32m---> 27\u001b[0m professors \u001b[38;5;241m=\u001b[39m fetch_university_data()\n\u001b[0;32m     28\u001b[0m \u001b[38;5;28;01mwhile\u001b[39;00m \u001b[38;5;28;01mTrue\u001b[39;00m:\n\u001b[0;32m     29\u001b[0m     \u001b[38;5;28mprint\u001b[39m(\u001b[38;5;124m\"\u001b[39m\u001b[38;5;130;01m\\n\u001b[39;00m\u001b[38;5;124mMenu:\u001b[39m\u001b[38;5;124m\"\u001b[39m)\n",
      "\u001b[1;31mNameError\u001b[0m: name 'fetch_university_data' is not defined"
     ]
    }
   ],
   "source": [
    "class Student:\n",
    "    def __init__(self, name, courses, interests, gpa, graduation_year, prefers_empirical):\n",
    "        self.name = name\n",
    "        self.courses = courses\n",
    "        self.interests = interests\n",
    "        self.gpa = gpa\n",
    "        self.graduation_year = graduation_year\n",
    "        self.prefers_empirical = prefers_empirical\n",
    "\n",
    "def get_student_data():\n",
    "    # Existing prompts\n",
    "    student_name = input(\"Enter your name: \").strip()\n",
    "    courses = input(\"Enter the courses you took, separated by commas: \").split(',')\n",
    "    interests = input(\"Enter your interests, separated by commas: \").split(',')\n",
    "    # New prompts\n",
    "    graduation_year = int(input(\"Enter your expected graduation year: \"))\n",
    "    gpa = float(input(\"Enter your GPA: \"))\n",
    "    prefers_empirical = input(\"Do you prefer an empirical thesis? (yes/no): \").lower() == 'yes'\n",
    "    # Return a Student object\n",
    "    return Student(student_name, courses, interests, gpa, graduation_year, prefers_empirical)\n",
    "\n",
    "def main():\n",
    "    # Tuple for department info\n",
    "    department_info = (\"Economics\", \"Nova SBE\")\n",
    "\n",
    "    student = None\n",
    "    professors = fetch_university_data()\n",
    "    while True:\n",
    "        print(\"\\nMenu:\")\n",
    "        print(\"1. Enter Student Data\")\n",
    "        print(\"2. Find Matching Professors\")\n",
    "        print(\"3. Exit\")\n",
    "        choice = input(\"Choose an option: \")\n",
    "\n",
    "        if choice == '1':\n",
    "            student = get_student_data()\n",
    "        elif choice == '2' and student:\n",
    "            matched_professors = match_professors(student.interests, professors)\n",
    "            display_matched_professors(matched_professors)\n",
    "            for professor in matched_professors.keys():\n",
    "                profile_link = get_scholar_profile_link(professor)\n",
    "                print(f\"Google Scholar Profile for {professor}: {profile_link}\")\n",
    "        elif choice == '3':\n",
    "            break\n",
    "        else:\n",
    "            print(\"Invalid choice or student data not entered. Please try again.\")\n",
    "\n",
    "if __name__ == \"__main__\":\n",
    "    main()\n"
   ]
  },
  {
   "cell_type": "code",
   "execution_count": null,
   "id": "375760b2",
   "metadata": {},
   "outputs": [],
   "source": [
    "def get_student_data():\n",
    "    # Existing prompts for courses and interests\n",
    "    courses = input(\"Enter the courses you took, separated by commas: \").split(',')\n",
    "    interests = input(\"Enter your interests, separated by commas: \").split(',')\n",
    "\n",
    "    # New prompts for additional details\n",
    "    student_name = input(\"Enter your name: \").strip()\n",
    "    current_semester = input(\"Enter your current semester (e.g., 'Fall 2023'): \").strip()\n",
    "    thesis_timeline = input(\"When do you plan to start writing your thesis? (e.g., 'Spring 2024'): \").strip()\n",
    "\n",
    "    return student_name, courses, interests, current_semester, thesis_timeline\n",
    "\n",
    "student_name, courses, interests, current_semester, thesis_timeline = get_student_data()\n"
   ]
  },
  {
   "cell_type": "code",
   "execution_count": null,
   "id": "9fd38c21",
   "metadata": {},
   "outputs": [],
   "source": [
    "graduation_year = int(input(\"Enter your expected graduation year: \"))\n",
    "gpa = float(input(\"Enter your GPA: \"))"
   ]
  },
  {
   "cell_type": "code",
   "execution_count": null,
   "id": "73b3b8d8",
   "metadata": {},
   "outputs": [],
   "source": [
    "prefers_empirical = input(\"Do you prefer an empirical thesis? (yes/no): \").lower() == 'yes'"
   ]
  },
  {
   "cell_type": "code",
   "execution_count": null,
   "id": "26d38a54",
   "metadata": {},
   "outputs": [],
   "source": [
    "while True:\n",
    "    choice = input(\"Choose an option: (1) Enter Data, (2) Find Professors, (3) Exit: \")\n",
    "    if choice == '1':\n",
    "        # Collect data\n",
    "    elif choice == '2':\n",
    "        # Find professors\n",
    "    elif choice == '3':\n",
    "        break\n"
   ]
  },
  {
   "cell_type": "code",
   "execution_count": null,
   "id": "a4758a65",
   "metadata": {},
   "outputs": [],
   "source": [
    "class Student:\n",
    "    def __init__(self, name, courses, interests, gpa):\n",
    "        self.name = name\n",
    "        self.courses = courses\n",
    "        self.interests = interests\n",
    "        self.gpa = gpa\n"
   ]
  },
  {
   "cell_type": "code",
   "execution_count": null,
   "id": "fca838d6",
   "metadata": {},
   "outputs": [],
   "source": [
    "# Mock-up function to simulate fetching university data\n",
    "def fetch_university_data():\n",
    "    # Hardcoded dictionary simulating professors and their interests\n",
    "    professors = {\n",
    "        \"Daniele d'Arienzo\": [\"Behavioral Finance\", \"Asset Pricing\", \"Asset Management\"],\n",
    "        \"Ekaterina Gavrilova\": [\"Empirical Corporate Finance\", \"Innovation Economics\", \"Firm Dynamics\"],\n",
    "        \"Emanuele Rizzo\": [\"Empirical Corporate Finance\", \"Financial Intermediation\", \"Corporate Governance\"],\n",
    "        \"Fernando Anjos\": [\"Theoretical Corporate Finance\", \"Diversified Firms\", \"Social and Economic Networks\"],\n",
    "        \"Francisco Queiró\": [\"Entrepreneurship\", \"Firm Dynamics\", \"Productivity\"],\n",
    "        \"Giorgio Ottonello\": [\"Empirical Asset Pricing\", \"Corporate Bond Markets\", \"Institutional Investors\"],\n",
    "        \"Irem Demirci\": [\"Corporate Finance\", \"Real Estate\", \"Household Finance\"],\n",
    "        \"João Amaro Matos\": [\"Incomplete Markets\", \"Derivatives & Risk Management\", \"Network Analysis\"],\n",
    "        \"João Pedro Pereira\": [\"Energy Finance\", \"Electricity Markets\", \"Renewable Energy\"],\n",
    "        \"Margarida Soares\": [\"Labor and Finance\", \"Gender\", \"Empirical Corporate Finance\", \"Innovation\"],\n",
    "        \"Melissa Prado\": [\"Institutional Investors\", \"Asset Management\"],\n",
    "        \"Miguel Ferreira\": [\"Empirical Corporate Finance\", \"Sustainable Finance\", \"Entrepreneurial Finance\", \"Household Finance\"],\n",
    "        \"Nicholas Hirschey\": [\"Microstructure\", \"Empirical Asset Pricing\"],\n",
    "        \"Pranav Desai\": [\"Innovation and Entrepreneurship\", \"Discrimination\", \"Gender\", \"Empirical Corporate Finance\"],\n",
    "        \"Rui Silva\": [\"Labor and Finance\", \"Empirical Corporate Finance\", \"Innovation and Entrepreneurship\"],\n",
    "        \"Virginia Gianinazzi\": [\"Household Finance\", \"Retail Investors\", \"Financial Intermediation\"]\n",
    "    }\n",
    "    return professors\n",
    "\n",
    "# Call the function to get professor data\n",
    "professors = fetch_university_data()"
   ]
  },
  {
   "cell_type": "code",
   "execution_count": null,
   "id": "87a9c8c1",
   "metadata": {},
   "outputs": [],
   "source": [
    "def match_professors(student_interests, professors):\n",
    "    # Prepare the student interests for comparison (strip and lower case)\n",
    "    prepared_student_interests = [interest.strip().lower() for interest in student_interests]\n",
    "\n",
    "    matches = {}\n",
    "    for name, interests in professors.items():\n",
    "        # Prepare the professor's interests for comparison\n",
    "        prepared_interests = [interest.lower() for interest in interests]\n",
    "        # Check if any of the professor's interests match the student's interests\n",
    "        if any(interest in prepared_student_interests for interest in prepared_interests):\n",
    "            matches[name] = interests\n",
    "    return matches\n",
    "\n",
    "# Assuming 'interests' is a list of student interests obtained from earlier input\n",
    "matched_professors = match_professors(interests, professors)"
   ]
  },
  {
   "cell_type": "code",
   "execution_count": null,
   "id": "ba228eb7",
   "metadata": {},
   "outputs": [],
   "source": [
    "def display_matched_professors(matches):\n",
    "    if not matches:  # Check if the matches dictionary is empty\n",
    "        print(\"No matching professors found based on your interests.\")\n",
    "    else:\n",
    "        print(\"Matched Professors:\")\n",
    "        for name, interests in matches.items():\n",
    "            print(f\"{name}: {', '.join(interests)}\")\n",
    "\n",
    "# Assuming 'interests' is a list of student interests obtained from earlier input\n",
    "matched_professors = match_professors(interests, professors)\n",
    "\n",
    "# Display the matched professors or a message if no matches are found\n",
    "display_matched_professors(matched_professors)\n"
   ]
  },
  {
   "cell_type": "code",
   "execution_count": null,
   "id": "16bc8427",
   "metadata": {},
   "outputs": [],
   "source": [
    "def get_scholar_profile_link(professor_name):\n",
    "    # Replace spaces with '+' for URL encoding\n",
    "    search_query = professor_name.replace(' ', '+')\n",
    "    base_url = \"https://scholar.google.com/scholar?q=\"\n",
    "    return base_url + search_query\n",
    "\n",
    "# Check if there are matched professors\n",
    "if matched_professors:\n",
    "    for professor in matched_professors.keys():\n",
    "        profile_link = get_scholar_profile_link(professor)\n",
    "        print(f\"Google Scholar Profile for {professor}: {profile_link}\")\n",
    "else:\n",
    "    print(\"No matching professors found. Cannot generate Google Scholar links.\")\n"
   ]
  },
  {
   "cell_type": "code",
   "execution_count": null,
   "id": "e4df254a",
   "metadata": {},
   "outputs": [],
   "source": [
    "import openai\n",
    "\n",
    "def draft_email(student_name, professor_name):\n",
    "    openai.api_key = 'your-api-key'\n",
    "\n",
    "    prompt = f\"Draft an email from a student, {student_name}, to a professor, {professor_name}, asking about thesis opportunities in their field of interest.\"\n",
    "\n",
    "    response = openai.Completion.create(\n",
    "        engine=\"text-davinci-003\",\n",
    "        prompt=prompt,\n",
    "        max_tokens=150\n",
    "    )\n",
    "\n",
    "    return response.choices[0].text.strip()\n",
    "\n",
    "email_draft = draft_email(\"Student Name\", \"Professor Name\")\n",
    "print(email_draft)\n"
   ]
  }
 ],
 "metadata": {
  "kernelspec": {
   "display_name": "Python 3 (ipykernel)",
   "language": "python",
   "name": "python3"
  },
  "language_info": {
   "codemirror_mode": {
    "name": "ipython",
    "version": 3
   },
   "file_extension": ".py",
   "mimetype": "text/x-python",
   "name": "python",
   "nbconvert_exporter": "python",
   "pygments_lexer": "ipython3",
   "version": "3.11.4"
  }
 },
 "nbformat": 4,
 "nbformat_minor": 5
}
